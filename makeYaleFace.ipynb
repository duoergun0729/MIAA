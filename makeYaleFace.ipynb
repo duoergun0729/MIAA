{
 "cells": [
  {
   "cell_type": "raw",
   "metadata": {},
   "source": [
    "data from https://github.com/inspire-group/privacy-vs-robustness/blob/master/datasets/yale/YALEBXF.mat"
   ]
  },
  {
   "cell_type": "code",
   "execution_count": 1,
   "metadata": {},
   "outputs": [],
   "source": [
    "import numpy as np\n",
    "import os\n",
    "import sys\n",
    "\n",
    "np.random.seed(0)"
   ]
  },
  {
   "cell_type": "code",
   "execution_count": 2,
   "metadata": {},
   "outputs": [],
   "source": [
    "in_file=\"data/Yale/YALEBXF.mat\"\n",
    "out_data_file=\"data/Yale/data_complete.npz\"\n",
    "out_shuffle_index_file=\"data/Yale/shuffle_index.npz\""
   ]
  },
  {
   "cell_type": "code",
   "execution_count": 3,
   "metadata": {},
   "outputs": [
    {
     "name": "stdout",
     "output_type": "stream",
     "text": [
      "[ 2  2  2 ... 40 40 40]\n"
     ]
    }
   ],
   "source": [
    "from scipy import io\n",
    "x=[]\n",
    "y=[]\n",
    "YALE = io.loadmat(in_file) \n",
    "x = YALE['X']\n",
    "y = YALE['Y']\n",
    "x = x.reshape((2414, 168, 192,1))\n",
    "y = y.flatten()\n",
    "\n",
    "#set data type \n",
    "x=np.array(x).astype(\"float32\")/255.0\n",
    "y=np.array(y).astype(\"int32\")\n",
    "\n",
    "print(y)\n",
    "\n",
    "shuffle_index=np.arange(len(x))\n",
    "np.random.shuffle(shuffle_index)"
   ]
  },
  {
   "cell_type": "code",
   "execution_count": 4,
   "metadata": {},
   "outputs": [],
   "source": [
    "np.savez(out_data_file,x=x,y=y)\n",
    "np.savez(out_shuffle_index_file,x=shuffle_index)"
   ]
  }
 ],
 "metadata": {
  "kernelspec": {
   "display_name": "nips",
   "language": "python",
   "name": "nips"
  },
  "language_info": {
   "codemirror_mode": {
    "name": "ipython",
    "version": 2
   },
   "file_extension": ".py",
   "mimetype": "text/x-python",
   "name": "python",
   "nbconvert_exporter": "python",
   "pygments_lexer": "ipython2",
   "version": "2.7.11"
  }
 },
 "nbformat": 4,
 "nbformat_minor": 2
}
