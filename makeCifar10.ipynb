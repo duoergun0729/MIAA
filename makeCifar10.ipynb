{
 "cells": [
  {
   "cell_type": "markdown",
   "metadata": {},
   "source": [
    "data from http://www.cs.toronto.edu/~kriz/cifar-10-python.tar.gz"
   ]
  },
  {
   "cell_type": "code",
   "execution_count": 1,
   "metadata": {},
   "outputs": [],
   "source": [
    "import numpy as np\n",
    "import os\n",
    "import sys\n",
    "\n",
    "np.random.seed(0)"
   ]
  },
  {
   "cell_type": "code",
   "execution_count": 2,
   "metadata": {},
   "outputs": [],
   "source": [
    "in_files=\"data/CIFAR-10/cifar-10-batches-py/\"\n",
    "out_data_file=\"data/CIFAR-10/data_complete.npz\"\n",
    "out_shuffle_index_file=\"data/CIFAR-10/shuffle_index.npz\""
   ]
  },
  {
   "cell_type": "code",
   "execution_count": 3,
   "metadata": {},
   "outputs": [],
   "source": [
    "def unpickle(file):\n",
    "    import cPickle\n",
    "    with open(file, 'rb') as fo:\n",
    "        dict = cPickle.load(fo)\n",
    "    return dict"
   ]
  },
  {
   "cell_type": "code",
   "execution_count": 4,
   "metadata": {},
   "outputs": [],
   "source": [
    "import sys\n",
    "from six.moves import cPickle\n",
    "\n",
    "\n",
    "def load_batch(fpath, label_key='labels'):\n",
    "    \"\"\"Internal utility for parsing CIFAR data.\n",
    "    # Arguments\n",
    "        fpath: path the file to parse.\n",
    "        label_key: key for label data in the retrieve\n",
    "            dictionary.\n",
    "    # Returns\n",
    "        A tuple `(data, labels)`.\n",
    "    \"\"\"\n",
    "    with open(fpath, 'rb') as f:\n",
    "        if sys.version_info < (3,):\n",
    "            d = cPickle.load(f)\n",
    "        else:\n",
    "            d = cPickle.load(f, encoding='bytes')\n",
    "            # decode utf8\n",
    "            d_decoded = {}\n",
    "            for k, v in d.items():\n",
    "                d_decoded[k.decode('utf8')] = v\n",
    "            d = d_decoded\n",
    "    data = d['data']\n",
    "    labels = d[label_key]\n",
    "\n",
    "    data = data.reshape(data.shape[0], 3, 32, 32)\n",
    "    return data, labels"
   ]
  },
  {
   "cell_type": "code",
   "execution_count": 5,
   "metadata": {},
   "outputs": [
    {
     "name": "stdout",
     "output_type": "stream",
     "text": [
      "(50000, 32, 32, 3)\n",
      "[[ 7]\n",
      " [10]\n",
      " [10]\n",
      " ...\n",
      " [10]\n",
      " [ 2]\n",
      " [ 2]]\n"
     ]
    }
   ],
   "source": [
    "x=[]\n",
    "y=[]\n",
    "\n",
    "import glob\n",
    "\"\"\"\n",
    "for in_file in glob.glob(in_files):\n",
    "    print(in_file)\n",
    "    data_batch=unpickle(in_file)\n",
    "    \n",
    "    data=data_batch[\"data\"]\n",
    "    labels=data_batch[\"labels\"]\n",
    "    \n",
    "    x.extend(data)\n",
    "    y.extend(labels)\n",
    "    \n",
    "\n",
    "print(len(x))    \n",
    "\n",
    "#set data type \n",
    "x=np.array(x).astype(\"float32\")/255.0\n",
    "x=np.reshape(x,[50000,32,32,3])\n",
    "#https://github.com/keras-team/keras/blob/d954aef2a2e33532f8725f58183cf605f5c54656/keras/datasets/cifar10.py\n",
    "x=x.transpose(0, 2, 3, 1)\n",
    "#cifar label from 0-9\n",
    "y=np.array(y).astype(\"int32\")+1\n",
    "\n",
    "print(x.shape)\n",
    "\n",
    "print(y)\n",
    "\"\"\"\n",
    "num_train_samples = 50000\n",
    "\n",
    "x = np.empty((num_train_samples, 3, 32, 32), dtype='uint8')\n",
    "y = np.empty((num_train_samples,), dtype='uint8')\n",
    "\n",
    "for i in range(1, 6):\n",
    "    fpath = os.path.join(in_files, 'data_batch_' + str(i))\n",
    "    (x[(i - 1) * 10000: i * 10000, :, :, :],\n",
    "     y[(i - 1) * 10000: i * 10000]) = load_batch(fpath)\n",
    "\n",
    "\n",
    "\n",
    "#y = np.reshape(y, (len(y), 1))\n",
    "x = x.transpose(0, 2, 3, 1)\n",
    "\n",
    "\n",
    "#set data type \n",
    "x=np.array(x).astype(\"float32\")/255.0\n",
    "y=np.array(y).astype(\"int32\")+1\n",
    "\n",
    "print(x.shape)\n",
    "\n",
    "print(y)\n",
    "\n",
    "shuffle_index=np.arange(len(y))\n",
    "np.random.shuffle(shuffle_index)"
   ]
  },
  {
   "cell_type": "code",
   "execution_count": 6,
   "metadata": {},
   "outputs": [],
   "source": [
    "np.savez(out_data_file,x=x,y=y)\n",
    "np.savez(out_shuffle_index_file,x=shuffle_index)"
   ]
  }
 ],
 "metadata": {
  "kernelspec": {
   "display_name": "nips",
   "language": "python",
   "name": "nips"
  },
  "language_info": {
   "codemirror_mode": {
    "name": "ipython",
    "version": 2
   },
   "file_extension": ".py",
   "mimetype": "text/x-python",
   "name": "python",
   "nbconvert_exporter": "python",
   "pygments_lexer": "ipython2",
   "version": "2.7.11"
  }
 },
 "nbformat": 4,
 "nbformat_minor": 2
}
