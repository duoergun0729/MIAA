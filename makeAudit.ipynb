{
 "cells": [
  {
   "cell_type": "markdown",
   "metadata": {},
   "source": [
    "data from http://archive.ics.uci.edu/ml/machine-learning-databases/adult/"
   ]
  },
  {
   "cell_type": "code",
   "execution_count": 1,
   "metadata": {},
   "outputs": [],
   "source": [
    "import numpy as np\n",
    "import pandas as pd\n",
    "import os\n",
    "import sys\n",
    "\n",
    "np.random.seed(0)"
   ]
  },
  {
   "cell_type": "code",
   "execution_count": 2,
   "metadata": {},
   "outputs": [],
   "source": [
    "in_files=\"data/Adult/adult.data\"\n",
    "out_data_file=\"data/Adult/data_complete.npz\"\n",
    "out_shuffle_index_file=\"data/Adult/shuffle_index.npz\""
   ]
  },
  {
   "cell_type": "code",
   "execution_count": 8,
   "metadata": {},
   "outputs": [
    {
     "name": "stdout",
     "output_type": "stream",
     "text": [
      "['age', 'workclass', 'fnlwgt', 'education', 'education-num', 'marital-status', 'occupation', 'relationship', 'race', 'sex', 'capital-gain', 'capital-loss', 'hours-per-week', 'native-country', 'label']\n",
      "32560\n",
      "(32560, 14)\n",
      "[5.0000e+01 0.0000e+00 8.3311e+04 0.0000e+00 1.3000e+01 0.0000e+00\n",
      " 0.0000e+00 0.0000e+00 0.0000e+00 0.0000e+00 0.0000e+00 0.0000e+00\n",
      " 1.3000e+01 0.0000e+00]\n"
     ]
    }
   ],
   "source": [
    "x=[]\n",
    "y=[]\n",
    "\n",
    "data = pd.read_csv(in_files)\n",
    "\n",
    "data.columns = ['age','workclass','fnlwgt',\"education\",\"education-num\",\"marital-status\",\n",
    "                \"occupation\",\"relationship\",\"race\",\"sex\",\"capital-gain\",\"capital-loss\",\n",
    "                \"hours-per-week\",\"native-country\",\"label\"]\n",
    "\n",
    "print([column for column in data])\n",
    "\n",
    "for column_name in ['workclass','education',  'marital-status', \n",
    "                    'occupation', 'relationship', 'race', 'sex','native-country', 'label']:\n",
    "    data[column_name] = pd.factorize(data[column_name])[0].astype(np.uint16)\n",
    "\n",
    "\n",
    "\n",
    "\n",
    "x=data.values[:,:-1]\n",
    "y=data[\"label\"]\n",
    "\n",
    "print(len(y))    \n",
    "\n",
    "print(x.shape)\n",
    "\n",
    "#set data type \n",
    "x=np.array(x).astype(\"float32\")\n",
    "y=np.array(y).astype(\"int32\")\n",
    "\n",
    "shuffle_index=np.arange(len(y))\n",
    "np.random.shuffle(shuffle_index)"
   ]
  },
  {
   "cell_type": "code",
   "execution_count": 4,
   "metadata": {},
   "outputs": [],
   "source": [
    "np.savez(out_data_file,x=x,y=y)\n",
    "np.savez(out_shuffle_index_file,x=shuffle_index)"
   ]
  }
 ],
 "metadata": {
  "kernelspec": {
   "display_name": "nips",
   "language": "python",
   "name": "nips"
  },
  "language_info": {
   "codemirror_mode": {
    "name": "ipython",
    "version": 2
   },
   "file_extension": ".py",
   "mimetype": "text/x-python",
   "name": "python",
   "nbconvert_exporter": "python",
   "pygments_lexer": "ipython2",
   "version": "2.7.11"
  }
 },
 "nbformat": 4,
 "nbformat_minor": 2
}
