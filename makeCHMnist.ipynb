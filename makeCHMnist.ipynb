{
 "cells": [
  {
   "cell_type": "raw",
   "metadata": {},
   "source": [
    "data from https://www.kaggle.com/kmader/colorectal-histology-mnist#hmnist_64_64_L.csv"
   ]
  },
  {
   "cell_type": "code",
   "execution_count": 1,
   "metadata": {},
   "outputs": [],
   "source": [
    "import numpy as np\n",
    "import os\n",
    "import sys\n",
    "\n",
    "np.random.seed(0)"
   ]
  },
  {
   "cell_type": "code",
   "execution_count": 2,
   "metadata": {},
   "outputs": [],
   "source": [
    "in_file=\"data/CH-MNIST/hmnist_64_64_L.csv\"\n",
    "out_data_file=\"data/CH-MNIST/data_complete.npz\"\n",
    "out_shuffle_index_file=\"data/CH-MNIST/shuffle_index.npz\""
   ]
  },
  {
   "cell_type": "code",
   "execution_count": 3,
   "metadata": {},
   "outputs": [],
   "source": [
    "import csv\n",
    "x=[]\n",
    "y=[]\n",
    "with open(in_file, 'r') as f:\n",
    "    reader = csv.reader(f)\n",
    "    next(reader)\n",
    "    for i in reader:\n",
    "        x.append(i[:-1])\n",
    "        y.append(i[-1])\n",
    "\n",
    "#set data type \n",
    "x=np.array(x).astype(\"float32\")/256.0-0.5\n",
    "y=np.array(y).astype(\"int32\")\n",
    "\n",
    "shuffle_index=np.arange(len(x))\n",
    "np.random.shuffle(shuffle_index)"
   ]
  },
  {
   "cell_type": "code",
   "execution_count": 4,
   "metadata": {},
   "outputs": [],
   "source": [
    "np.savez(out_data_file,x=x,y=y)\n",
    "np.savez(out_shuffle_index_file,x=shuffle_index)"
   ]
  }
 ],
 "metadata": {
  "kernelspec": {
   "display_name": "nips",
   "language": "python",
   "name": "nips"
  },
  "language_info": {
   "codemirror_mode": {
    "name": "ipython",
    "version": 2
   },
   "file_extension": ".py",
   "mimetype": "text/x-python",
   "name": "python",
   "nbconvert_exporter": "python",
   "pygments_lexer": "ipython2",
   "version": "2.7.11"
  }
 },
 "nbformat": 4,
 "nbformat_minor": 2
}
