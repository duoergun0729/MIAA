{
 "cells": [
  {
   "cell_type": "markdown",
   "metadata": {},
   "source": [
    "data from http://www.cs.toronto.edu/~kriz/cifar-10-python.tar.gz"
   ]
  },
  {
   "cell_type": "code",
   "execution_count": 1,
   "metadata": {},
   "outputs": [
    {
     "name": "stderr",
     "output_type": "stream",
     "text": [
      "Using TensorFlow backend.\n"
     ]
    }
   ],
   "source": [
    "import numpy as np\n",
    "import os\n",
    "import sys\n",
    "from keras.datasets import mnist\n",
    "\n",
    "np.random.seed(0)"
   ]
  },
  {
   "cell_type": "code",
   "execution_count": 2,
   "metadata": {},
   "outputs": [],
   "source": [
    "out_data_file=\"data/MNIST/data_complete.npz\"\n",
    "out_shuffle_index_file=\"data/MNIST/shuffle_index.npz\""
   ]
  },
  {
   "cell_type": "code",
   "execution_count": 3,
   "metadata": {},
   "outputs": [
    {
     "name": "stdout",
     "output_type": "stream",
     "text": [
      "(60000, 28, 28)\n",
      "(60000, 784)\n",
      "[6 1 5 ... 6 7 9]\n",
      "[ 3048 19563 58303 ... 42613 43567  2732]\n"
     ]
    }
   ],
   "source": [
    "(x, y), _ = mnist.load_data()\n",
    "\n",
    "print(x.shape)\n",
    "\n",
    "x=np.reshape(x,[len(y),28*28])\n",
    "\n",
    "#set data type \n",
    "x=np.array(x).astype(\"float32\")/255.0\n",
    "y=np.array(y).astype(\"int32\")+1\n",
    "\n",
    "print(x.shape)\n",
    "\n",
    "print(y)\n",
    "\n",
    "shuffle_index=np.arange(len(y))\n",
    "np.random.shuffle(shuffle_index)\n",
    "\n",
    "print(shuffle_index)"
   ]
  },
  {
   "cell_type": "code",
   "execution_count": 4,
   "metadata": {},
   "outputs": [],
   "source": [
    "np.savez(out_data_file,x=x,y=y)\n",
    "np.savez(out_shuffle_index_file,x=shuffle_index)"
   ]
  }
 ],
 "metadata": {
  "kernelspec": {
   "display_name": "nips",
   "language": "python",
   "name": "nips"
  },
  "language_info": {
   "codemirror_mode": {
    "name": "ipython",
    "version": 2
   },
   "file_extension": ".py",
   "mimetype": "text/x-python",
   "name": "python",
   "nbconvert_exporter": "python",
   "pygments_lexer": "ipython2",
   "version": "2.7.11"
  }
 },
 "nbformat": 4,
 "nbformat_minor": 2
}
